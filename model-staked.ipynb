{
 "cells": [
  {
   "cell_type": "code",
   "execution_count": 160,
   "metadata": {},
   "outputs": [],
   "source": [
    "import numpy as np\n",
    "import pandas as pd"
   ]
  },
  {
   "cell_type": "code",
   "execution_count": 161,
   "metadata": {},
   "outputs": [
    {
     "data": {
      "text/html": [
       "<div>\n",
       "<style scoped>\n",
       "    .dataframe tbody tr th:only-of-type {\n",
       "        vertical-align: middle;\n",
       "    }\n",
       "\n",
       "    .dataframe tbody tr th {\n",
       "        vertical-align: top;\n",
       "    }\n",
       "\n",
       "    .dataframe thead th {\n",
       "        text-align: right;\n",
       "    }\n",
       "</style>\n",
       "<table border=\"1\" class=\"dataframe\">\n",
       "  <thead>\n",
       "    <tr style=\"text-align: right;\">\n",
       "      <th></th>\n",
       "      <th>time_to_delivery_from_shipment</th>\n",
       "      <th>time_to_delivery_from_order_approved</th>\n",
       "      <th>time_to_delivery_from_order_purchased</th>\n",
       "      <th>freight_value</th>\n",
       "      <th>shipment_distance</th>\n",
       "    </tr>\n",
       "    <tr>\n",
       "      <th>order_purchase_timestamp</th>\n",
       "      <th></th>\n",
       "      <th></th>\n",
       "      <th></th>\n",
       "      <th></th>\n",
       "      <th></th>\n",
       "    </tr>\n",
       "  </thead>\n",
       "  <tbody>\n",
       "    <tr>\n",
       "      <th>2017-01-05 11:56:06</th>\n",
       "      <td>5.021111</td>\n",
       "      <td>6.044306</td>\n",
       "      <td>6.054155</td>\n",
       "      <td>8.72</td>\n",
       "      <td>11.609337</td>\n",
       "    </tr>\n",
       "    <tr>\n",
       "      <th>2017-01-05 12:01:20</th>\n",
       "      <td>5.969502</td>\n",
       "      <td>10.502326</td>\n",
       "      <td>12.151134</td>\n",
       "      <td>8.72</td>\n",
       "      <td>11.609337</td>\n",
       "    </tr>\n",
       "    <tr>\n",
       "      <th>2017-01-05 12:06:36</th>\n",
       "      <td>5.020463</td>\n",
       "      <td>9.513889</td>\n",
       "      <td>11.165810</td>\n",
       "      <td>8.72</td>\n",
       "      <td>13.076936</td>\n",
       "    </tr>\n",
       "    <tr>\n",
       "      <th>2017-01-05 12:09:08</th>\n",
       "      <td>5.005278</td>\n",
       "      <td>9.499549</td>\n",
       "      <td>11.148854</td>\n",
       "      <td>8.72</td>\n",
       "      <td>13.076936</td>\n",
       "    </tr>\n",
       "    <tr>\n",
       "      <th>2017-01-05 12:11:23</th>\n",
       "      <td>5.988623</td>\n",
       "      <td>10.515544</td>\n",
       "      <td>12.163275</td>\n",
       "      <td>8.72</td>\n",
       "      <td>13.076936</td>\n",
       "    </tr>\n",
       "    <tr>\n",
       "      <th>...</th>\n",
       "      <td>...</td>\n",
       "      <td>...</td>\n",
       "      <td>...</td>\n",
       "      <td>...</td>\n",
       "      <td>...</td>\n",
       "    </tr>\n",
       "    <tr>\n",
       "      <th>2018-08-29 12:25:59</th>\n",
       "      <td>1.382257</td>\n",
       "      <td>1.425810</td>\n",
       "      <td>1.432269</td>\n",
       "      <td>9.20</td>\n",
       "      <td>18.854775</td>\n",
       "    </tr>\n",
       "    <tr>\n",
       "      <th>2018-08-29 14:18:23</th>\n",
       "      <td>1.038831</td>\n",
       "      <td>1.079028</td>\n",
       "      <td>1.087870</td>\n",
       "      <td>16.43</td>\n",
       "      <td>10.343719</td>\n",
       "    </tr>\n",
       "    <tr>\n",
       "      <th>2018-08-29 14:18:28</th>\n",
       "      <td>0.917720</td>\n",
       "      <td>1.098704</td>\n",
       "      <td>1.106979</td>\n",
       "      <td>15.39</td>\n",
       "      <td>431.976676</td>\n",
       "    </tr>\n",
       "    <tr>\n",
       "      <th>2018-08-29 14:52:00</th>\n",
       "      <td>0.858322</td>\n",
       "      <td>1.063623</td>\n",
       "      <td>1.072905</td>\n",
       "      <td>8.33</td>\n",
       "      <td>10.312870</td>\n",
       "    </tr>\n",
       "    <tr>\n",
       "      <th>2018-08-29 15:00:37</th>\n",
       "      <td>0.976806</td>\n",
       "      <td>1.050810</td>\n",
       "      <td>1.057627</td>\n",
       "      <td>8.76</td>\n",
       "      <td>140.915746</td>\n",
       "    </tr>\n",
       "  </tbody>\n",
       "</table>\n",
       "<p>92475 rows × 5 columns</p>\n",
       "</div>"
      ],
      "text/plain": [
       "                          time_to_delivery_from_shipment  \\\n",
       "order_purchase_timestamp                                   \n",
       "2017-01-05 11:56:06                             5.021111   \n",
       "2017-01-05 12:01:20                             5.969502   \n",
       "2017-01-05 12:06:36                             5.020463   \n",
       "2017-01-05 12:09:08                             5.005278   \n",
       "2017-01-05 12:11:23                             5.988623   \n",
       "...                                                  ...   \n",
       "2018-08-29 12:25:59                             1.382257   \n",
       "2018-08-29 14:18:23                             1.038831   \n",
       "2018-08-29 14:18:28                             0.917720   \n",
       "2018-08-29 14:52:00                             0.858322   \n",
       "2018-08-29 15:00:37                             0.976806   \n",
       "\n",
       "                          time_to_delivery_from_order_approved  \\\n",
       "order_purchase_timestamp                                         \n",
       "2017-01-05 11:56:06                                   6.044306   \n",
       "2017-01-05 12:01:20                                  10.502326   \n",
       "2017-01-05 12:06:36                                   9.513889   \n",
       "2017-01-05 12:09:08                                   9.499549   \n",
       "2017-01-05 12:11:23                                  10.515544   \n",
       "...                                                        ...   \n",
       "2018-08-29 12:25:59                                   1.425810   \n",
       "2018-08-29 14:18:23                                   1.079028   \n",
       "2018-08-29 14:18:28                                   1.098704   \n",
       "2018-08-29 14:52:00                                   1.063623   \n",
       "2018-08-29 15:00:37                                   1.050810   \n",
       "\n",
       "                          time_to_delivery_from_order_purchased  \\\n",
       "order_purchase_timestamp                                          \n",
       "2017-01-05 11:56:06                                    6.054155   \n",
       "2017-01-05 12:01:20                                   12.151134   \n",
       "2017-01-05 12:06:36                                   11.165810   \n",
       "2017-01-05 12:09:08                                   11.148854   \n",
       "2017-01-05 12:11:23                                   12.163275   \n",
       "...                                                         ...   \n",
       "2018-08-29 12:25:59                                    1.432269   \n",
       "2018-08-29 14:18:23                                    1.087870   \n",
       "2018-08-29 14:18:28                                    1.106979   \n",
       "2018-08-29 14:52:00                                    1.072905   \n",
       "2018-08-29 15:00:37                                    1.057627   \n",
       "\n",
       "                          freight_value  shipment_distance  \n",
       "order_purchase_timestamp                                    \n",
       "2017-01-05 11:56:06                8.72          11.609337  \n",
       "2017-01-05 12:01:20                8.72          11.609337  \n",
       "2017-01-05 12:06:36                8.72          13.076936  \n",
       "2017-01-05 12:09:08                8.72          13.076936  \n",
       "2017-01-05 12:11:23                8.72          13.076936  \n",
       "...                                 ...                ...  \n",
       "2018-08-29 12:25:59                9.20          18.854775  \n",
       "2018-08-29 14:18:23               16.43          10.343719  \n",
       "2018-08-29 14:18:28               15.39         431.976676  \n",
       "2018-08-29 14:52:00                8.33          10.312870  \n",
       "2018-08-29 15:00:37                8.76         140.915746  \n",
       "\n",
       "[92475 rows x 5 columns]"
      ]
     },
     "execution_count": 161,
     "metadata": {},
     "output_type": "execute_result"
    }
   ],
   "source": [
    "df = pd.read_csv(\"./dataset_pre_processed.csv\", index_col=0)\n",
    "df"
   ]
  },
  {
   "cell_type": "code",
   "execution_count": 162,
   "metadata": {},
   "outputs": [
    {
     "name": "stdout",
     "output_type": "stream",
     "text": [
      "Requirement already satisfied: scikit-learn in c:\\users\\victo\\anaconda3\\envs\\ts_project\\lib\\site-packages (1.3.0)\n",
      "Requirement already satisfied: numpy>=1.17.3 in c:\\users\\victo\\anaconda3\\envs\\ts_project\\lib\\site-packages (from scikit-learn) (1.24.3)\n",
      "Requirement already satisfied: scipy>=1.5.0 in c:\\users\\victo\\anaconda3\\envs\\ts_project\\lib\\site-packages (from scikit-learn) (1.11.1)\n",
      "Requirement already satisfied: joblib>=1.1.1 in c:\\users\\victo\\anaconda3\\envs\\ts_project\\lib\\site-packages (from scikit-learn) (1.3.1)\n",
      "Requirement already satisfied: threadpoolctl>=2.0.0 in c:\\users\\victo\\anaconda3\\envs\\ts_project\\lib\\site-packages (from scikit-learn) (3.1.0)\n"
     ]
    }
   ],
   "source": [
    "!pip install scikit-learn"
   ]
  },
  {
   "cell_type": "code",
   "execution_count": 163,
   "metadata": {},
   "outputs": [],
   "source": [
    "from sklearn.preprocessing import StandardScaler\n",
    "import math"
   ]
  },
  {
   "cell_type": "code",
   "execution_count": 164,
   "metadata": {},
   "outputs": [],
   "source": [
    "def split_train_test(data, test_size=0.2):\n",
    "    train_size = 1 - test_size\n",
    "    cohort = int(math.ceil(data.shape[0] * train_size))\n",
    "    train = data[0:cohort]\n",
    "    test =  data[cohort:]\n",
    "    return train, test"
   ]
  },
  {
   "cell_type": "code",
   "execution_count": 165,
   "metadata": {},
   "outputs": [
    {
     "name": "stdout",
     "output_type": "stream",
     "text": [
      "(73980, 3)\n",
      "(18495, 3)\n"
     ]
    }
   ],
   "source": [
    "data = df[[\"time_to_delivery_from_order_purchased\", \"freight_value\", \"shipment_distance\"]]\n",
    "\n",
    "train, test = split_train_test(data)\n",
    "print(train.shape)\n",
    "print(test.shape)"
   ]
  },
  {
   "cell_type": "code",
   "execution_count": 166,
   "metadata": {},
   "outputs": [],
   "source": [
    "def scale_data(data):\n",
    "    scaler = StandardScaler()\n",
    "    scaled_data = scaler.fit_transform(data)\n",
    "    return scaled_data, scaler"
   ]
  },
  {
   "cell_type": "code",
   "execution_count": 167,
   "metadata": {},
   "outputs": [
    {
     "name": "stdout",
     "output_type": "stream",
     "text": [
      "(73980, 3)\n",
      "(73980, 1)\n"
     ]
    }
   ],
   "source": [
    "X_train_scaled, X_train_scaler = scale_data(train)\n",
    "X_train_y_scaled, X_train_y_scaler = scale_data(train[[\"time_to_delivery_from_order_purchased\"]])\n",
    "print(X_train_scaled.shape)\n",
    "print(X_train_y_scaled.shape)\n"
   ]
  },
  {
   "cell_type": "code",
   "execution_count": 168,
   "metadata": {},
   "outputs": [],
   "source": [
    "hops = 100\n",
    "n_records = X_train_scaled.shape[0]\n",
    "n_cols = X_train_scaled.shape[1]\n",
    "X_train = []\n",
    "y_train = []\n",
    "\n",
    "for i in range(hops, n_records):\n",
    "    X_train.append(X_train_scaled[i -hops: i])\n",
    "    y_train.append(X_train_y_scaled[i][0])\n",
    "\n",
    "X_train, y_train = np.array(X_train), np.array(y_train)"
   ]
  },
  {
   "cell_type": "code",
   "execution_count": 169,
   "metadata": {},
   "outputs": [
    {
     "name": "stdout",
     "output_type": "stream",
     "text": [
      "(73880, 100, 3)\n",
      "(73880,)\n"
     ]
    }
   ],
   "source": [
    "print(X_train.shape)\n",
    "print(y_train.shape)"
   ]
  },
  {
   "cell_type": "code",
   "execution_count": 170,
   "metadata": {},
   "outputs": [
    {
     "data": {
      "text/plain": [
       "(73880, 100, 3)"
      ]
     },
     "execution_count": 170,
     "metadata": {},
     "output_type": "execute_result"
    }
   ],
   "source": [
    "X_train_shape = X_train.shape\n",
    "X_train_shape"
   ]
  },
  {
   "cell_type": "code",
   "execution_count": 171,
   "metadata": {},
   "outputs": [],
   "source": [
    "#!pip install -U tensorflow"
   ]
  },
  {
   "cell_type": "code",
   "execution_count": 172,
   "metadata": {},
   "outputs": [],
   "source": [
    "from keras.models import Sequential\n",
    "from keras.layers import Dense, LSTM, Dropout\n",
    "from keras.callbacks import EarlyStopping"
   ]
  },
  {
   "cell_type": "code",
   "execution_count": 173,
   "metadata": {},
   "outputs": [
    {
     "name": "stdout",
     "output_type": "stream",
     "text": [
      "Model: \"sequential_7\"\n",
      "_________________________________________________________________\n",
      " Layer (type)                Output Shape              Param #   \n",
      "=================================================================\n",
      " lstm_14 (LSTM)              (None, 100, 50)           10800     \n",
      "                                                                 \n",
      " dropout_14 (Dropout)        (None, 100, 50)           0         \n",
      "                                                                 \n",
      " lstm_15 (LSTM)              (None, 50)                20200     \n",
      "                                                                 \n",
      " dropout_15 (Dropout)        (None, 50)                0         \n",
      "                                                                 \n",
      " dense_7 (Dense)             (None, 1)                 51        \n",
      "                                                                 \n",
      "=================================================================\n",
      "Total params: 31051 (121.29 KB)\n",
      "Trainable params: 31051 (121.29 KB)\n",
      "Non-trainable params: 0 (0.00 Byte)\n",
      "_________________________________________________________________\n"
     ]
    }
   ],
   "source": [
    "model = Sequential()\n",
    "model.add(LSTM(units=50, return_sequences=True, input_shape=(X_train.shape[1], X_train.shape[2])))\n",
    "model.add(Dropout(0.2))\n",
    "model.add(LSTM(units=50))\n",
    "model.add(Dropout(0.2))\n",
    "model.add(Dense(1))\n",
    "model.compile(optimizer=\"adam\", loss=\"mean_squared_error\")\n",
    "model.summary()"
   ]
  },
  {
   "cell_type": "code",
   "execution_count": 174,
   "metadata": {},
   "outputs": [
    {
     "name": "stdout",
     "output_type": "stream",
     "text": [
      "Epoch 1/1000\n",
      "2309/2309 [==============================] - 62s 26ms/step - loss: 0.9748\n",
      "Epoch 2/1000\n",
      "2309/2309 [==============================] - 57s 25ms/step - loss: 0.9709\n",
      "Epoch 3/1000\n",
      "2309/2309 [==============================] - 57s 25ms/step - loss: 0.9691\n",
      "Epoch 4/1000\n",
      "2309/2309 [==============================] - 57s 25ms/step - loss: 0.9684\n",
      "Epoch 5/1000\n",
      "2309/2309 [==============================] - 57s 25ms/step - loss: 0.9675\n",
      "Epoch 6/1000\n",
      "2309/2309 [==============================] - 57s 25ms/step - loss: 0.9676\n",
      "Epoch 7/1000\n",
      "2309/2309 [==============================] - 57s 25ms/step - loss: 0.9675\n",
      "Epoch 8/1000\n",
      "2309/2309 [==============================] - 57s 25ms/step - loss: 0.9669\n",
      "Epoch 9/1000\n",
      "2309/2309 [==============================] - 57s 25ms/step - loss: 0.9666\n",
      "Epoch 10/1000\n",
      "2309/2309 [==============================] - 57s 25ms/step - loss: 0.9666\n",
      "Epoch 11/1000\n",
      "2309/2309 [==============================] - 57s 25ms/step - loss: 0.9660\n",
      "Epoch 12/1000\n",
      "2309/2309 [==============================] - 57s 25ms/step - loss: 0.9656\n",
      "Epoch 13/1000\n",
      "2309/2309 [==============================] - 57s 25ms/step - loss: 0.9652\n",
      "Epoch 14/1000\n",
      "2309/2309 [==============================] - 57s 25ms/step - loss: 0.9649\n",
      "Epoch 15/1000\n",
      "2309/2309 [==============================] - 57s 25ms/step - loss: 0.9654\n",
      "Epoch 16/1000\n",
      "2309/2309 [==============================] - 57s 25ms/step - loss: 0.9653\n",
      "Epoch 17/1000\n",
      "2309/2309 [==============================] - 57s 25ms/step - loss: 0.9646\n",
      "Epoch 18/1000\n",
      "2309/2309 [==============================] - 57s 25ms/step - loss: 0.9632\n",
      "Epoch 19/1000\n",
      "2309/2309 [==============================] - 57s 25ms/step - loss: 0.9624\n",
      "Epoch 20/1000\n",
      "2309/2309 [==============================] - 57s 25ms/step - loss: 0.9613\n",
      "Epoch 21/1000\n",
      "2309/2309 [==============================] - 57s 25ms/step - loss: 0.9599\n",
      "Epoch 22/1000\n",
      "2309/2309 [==============================] - 57s 25ms/step - loss: 0.9587\n",
      "Epoch 23/1000\n",
      "2309/2309 [==============================] - 57s 25ms/step - loss: 0.9563\n",
      "Epoch 24/1000\n",
      "2309/2309 [==============================] - 57s 25ms/step - loss: 0.9545\n",
      "Epoch 25/1000\n",
      "2309/2309 [==============================] - 57s 25ms/step - loss: 0.9533\n",
      "Epoch 26/1000\n",
      "2309/2309 [==============================] - 57s 25ms/step - loss: 0.9515\n",
      "Epoch 27/1000\n",
      "2309/2309 [==============================] - 57s 25ms/step - loss: 0.9487\n",
      "Epoch 28/1000\n",
      "2309/2309 [==============================] - 57s 25ms/step - loss: 0.9460\n",
      "Epoch 29/1000\n",
      "2309/2309 [==============================] - 57s 25ms/step - loss: 0.9431\n",
      "Epoch 30/1000\n",
      "2309/2309 [==============================] - 57s 25ms/step - loss: 0.9407\n",
      "Epoch 31/1000\n",
      "2309/2309 [==============================] - 59s 25ms/step - loss: 0.9377\n",
      "Epoch 32/1000\n",
      "2309/2309 [==============================] - 62s 27ms/step - loss: 0.9350\n",
      "Epoch 33/1000\n",
      "2309/2309 [==============================] - 60s 26ms/step - loss: 0.9311\n",
      "Epoch 34/1000\n",
      "2309/2309 [==============================] - 59s 26ms/step - loss: 0.9282\n",
      "Epoch 35/1000\n",
      "2309/2309 [==============================] - 59s 26ms/step - loss: 0.9244\n",
      "Epoch 36/1000\n",
      "2309/2309 [==============================] - 59s 26ms/step - loss: 0.9205\n",
      "Epoch 37/1000\n",
      "2309/2309 [==============================] - 59s 26ms/step - loss: 0.9170\n",
      "Epoch 38/1000\n",
      "2309/2309 [==============================] - 59s 26ms/step - loss: 0.9146\n",
      "Epoch 39/1000\n",
      "2309/2309 [==============================] - 59s 26ms/step - loss: 0.9098\n",
      "Epoch 40/1000\n",
      "2309/2309 [==============================] - 59s 26ms/step - loss: 0.9083\n",
      "Epoch 41/1000\n",
      "2309/2309 [==============================] - 59s 26ms/step - loss: 0.9040\n",
      "Epoch 42/1000\n",
      "2309/2309 [==============================] - 59s 26ms/step - loss: 0.8997\n",
      "Epoch 43/1000\n",
      "2309/2309 [==============================] - 59s 26ms/step - loss: 0.8957\n",
      "Epoch 44/1000\n",
      "2309/2309 [==============================] - 59s 26ms/step - loss: 0.8929\n",
      "Epoch 45/1000\n",
      "2309/2309 [==============================] - 59s 26ms/step - loss: 0.8892\n",
      "Epoch 46/1000\n",
      "2309/2309 [==============================] - 59s 26ms/step - loss: 0.8874\n",
      "Epoch 47/1000\n",
      "2309/2309 [==============================] - 59s 26ms/step - loss: 0.8842\n",
      "Epoch 48/1000\n",
      "2309/2309 [==============================] - 59s 26ms/step - loss: 0.8819\n",
      "Epoch 49/1000\n",
      "2309/2309 [==============================] - 59s 26ms/step - loss: 0.8776\n",
      "Epoch 50/1000\n",
      "2309/2309 [==============================] - 59s 26ms/step - loss: 0.8746\n",
      "Epoch 51/1000\n",
      "2309/2309 [==============================] - 59s 26ms/step - loss: 0.8720\n",
      "Epoch 52/1000\n",
      "2309/2309 [==============================] - 59s 26ms/step - loss: 0.8693\n",
      "Epoch 53/1000\n",
      "2309/2309 [==============================] - 59s 26ms/step - loss: 0.8669\n",
      "Epoch 54/1000\n",
      "2309/2309 [==============================] - 59s 26ms/step - loss: 0.8638\n",
      "Epoch 55/1000\n",
      "2309/2309 [==============================] - 59s 26ms/step - loss: 0.8596\n",
      "Epoch 56/1000\n",
      "2309/2309 [==============================] - 59s 26ms/step - loss: 0.8614\n",
      "Epoch 57/1000\n",
      "2309/2309 [==============================] - 59s 26ms/step - loss: 0.8552\n",
      "Epoch 58/1000\n",
      "2309/2309 [==============================] - 59s 26ms/step - loss: 0.8526\n",
      "Epoch 59/1000\n",
      "2309/2309 [==============================] - 59s 26ms/step - loss: 0.8514\n",
      "Epoch 60/1000\n",
      "2309/2309 [==============================] - 59s 26ms/step - loss: 0.8483\n",
      "Epoch 61/1000\n",
      "2309/2309 [==============================] - 59s 26ms/step - loss: 0.8456\n",
      "Epoch 62/1000\n",
      "2309/2309 [==============================] - 59s 26ms/step - loss: 0.8451\n",
      "Epoch 63/1000\n",
      "2309/2309 [==============================] - 59s 26ms/step - loss: 0.8398\n",
      "Epoch 64/1000\n",
      "2309/2309 [==============================] - 59s 26ms/step - loss: 0.8387\n",
      "Epoch 65/1000\n",
      "2309/2309 [==============================] - 59s 26ms/step - loss: 0.8382\n",
      "Epoch 66/1000\n",
      "2309/2309 [==============================] - 59s 26ms/step - loss: 0.8372\n",
      "Epoch 67/1000\n",
      "2309/2309 [==============================] - 59s 26ms/step - loss: 0.8330\n",
      "Epoch 68/1000\n",
      "2309/2309 [==============================] - 59s 26ms/step - loss: 0.8318\n",
      "Epoch 69/1000\n",
      "2309/2309 [==============================] - 59s 26ms/step - loss: 0.8302\n",
      "Epoch 70/1000\n",
      "2309/2309 [==============================] - 59s 26ms/step - loss: 0.8278\n",
      "Epoch 71/1000\n",
      "2309/2309 [==============================] - 59s 26ms/step - loss: 0.8243\n",
      "Epoch 72/1000\n",
      "2309/2309 [==============================] - 59s 26ms/step - loss: 0.8267\n",
      "Epoch 73/1000\n",
      "2309/2309 [==============================] - 59s 26ms/step - loss: 0.8238\n",
      "Epoch 74/1000\n",
      "2309/2309 [==============================] - 59s 26ms/step - loss: 0.8207\n",
      "Epoch 75/1000\n",
      "2309/2309 [==============================] - 59s 26ms/step - loss: 0.8189\n",
      "Epoch 76/1000\n",
      "2309/2309 [==============================] - 59s 26ms/step - loss: 0.8181\n",
      "Epoch 77/1000\n",
      "2309/2309 [==============================] - 59s 26ms/step - loss: 0.8159\n",
      "Epoch 78/1000\n",
      "2309/2309 [==============================] - 59s 26ms/step - loss: 0.8162\n",
      "Epoch 79/1000\n",
      "2309/2309 [==============================] - 59s 26ms/step - loss: 0.8134\n",
      "Epoch 80/1000\n",
      "2309/2309 [==============================] - 59s 26ms/step - loss: 0.8150\n",
      "Epoch 81/1000\n",
      "2309/2309 [==============================] - 59s 26ms/step - loss: 0.8082\n",
      "Epoch 82/1000\n",
      "2309/2309 [==============================] - 59s 26ms/step - loss: 0.8091\n",
      "Epoch 83/1000\n",
      "2309/2309 [==============================] - 60s 26ms/step - loss: 0.8081\n",
      "Epoch 84/1000\n",
      "2309/2309 [==============================] - 60s 26ms/step - loss: 0.8081\n",
      "Epoch 85/1000\n",
      "2309/2309 [==============================] - 61s 26ms/step - loss: 0.8073\n",
      "Epoch 86/1000\n",
      "2309/2309 [==============================] - 61s 26ms/step - loss: 0.8024\n",
      "Epoch 87/1000\n",
      "2309/2309 [==============================] - 59s 25ms/step - loss: 0.8052\n",
      "Epoch 88/1000\n",
      "2309/2309 [==============================] - 60s 26ms/step - loss: 0.8037\n",
      "Epoch 89/1000\n",
      "2309/2309 [==============================] - 61s 26ms/step - loss: 0.7997\n",
      "Epoch 90/1000\n",
      "2309/2309 [==============================] - 63s 27ms/step - loss: 0.7960\n",
      "Epoch 91/1000\n",
      "2309/2309 [==============================] - 61s 27ms/step - loss: 0.7992\n",
      "Epoch 92/1000\n",
      "2309/2309 [==============================] - 61s 26ms/step - loss: 0.7961\n",
      "Epoch 93/1000\n",
      "2309/2309 [==============================] - 62s 27ms/step - loss: 0.7951\n",
      "Epoch 94/1000\n",
      "2309/2309 [==============================] - 59s 25ms/step - loss: 0.7950\n",
      "Epoch 95/1000\n",
      "2309/2309 [==============================] - 60s 26ms/step - loss: 0.7960\n",
      "Epoch 96/1000\n",
      "2309/2309 [==============================] - 62s 27ms/step - loss: 0.7921\n",
      "Epoch 97/1000\n",
      "2309/2309 [==============================] - 61s 27ms/step - loss: 0.7940\n",
      "Epoch 98/1000\n",
      "2309/2309 [==============================] - 61s 27ms/step - loss: 0.7949\n",
      "Epoch 99/1000\n",
      "2309/2309 [==============================] - 61s 27ms/step - loss: 0.7986\n"
     ]
    },
    {
     "data": {
      "text/plain": [
       "<keras.src.callbacks.History at 0x1b984f5e510>"
      ]
     },
     "execution_count": 174,
     "metadata": {},
     "output_type": "execute_result"
    }
   ],
   "source": [
    "callback = EarlyStopping(monitor='loss', patience=3)\n",
    "model.fit(X_train, y_train, epochs=1000, batch_size=32, workers=8, use_multiprocessing=True, callbacks=[callback])"
   ]
  },
  {
   "cell_type": "code",
   "execution_count": 186,
   "metadata": {},
   "outputs": [
    {
     "name": "stdout",
     "output_type": "stream",
     "text": [
      "(18595, 3)\n"
     ]
    },
    {
     "data": {
      "text/html": [
       "<div>\n",
       "<style scoped>\n",
       "    .dataframe tbody tr th:only-of-type {\n",
       "        vertical-align: middle;\n",
       "    }\n",
       "\n",
       "    .dataframe tbody tr th {\n",
       "        vertical-align: top;\n",
       "    }\n",
       "\n",
       "    .dataframe thead th {\n",
       "        text-align: right;\n",
       "    }\n",
       "</style>\n",
       "<table border=\"1\" class=\"dataframe\">\n",
       "  <thead>\n",
       "    <tr style=\"text-align: right;\">\n",
       "      <th></th>\n",
       "      <th>time_to_delivery_from_order_purchased</th>\n",
       "      <th>freight_value</th>\n",
       "      <th>shipment_distance</th>\n",
       "    </tr>\n",
       "    <tr>\n",
       "      <th>order_purchase_timestamp</th>\n",
       "      <th></th>\n",
       "      <th></th>\n",
       "      <th></th>\n",
       "    </tr>\n",
       "  </thead>\n",
       "  <tbody>\n",
       "    <tr>\n",
       "      <th>2018-05-26 10:08:31</th>\n",
       "      <td>9.385498</td>\n",
       "      <td>16.43</td>\n",
       "      <td>81.794361</td>\n",
       "    </tr>\n",
       "    <tr>\n",
       "      <th>2018-05-26 10:10:47</th>\n",
       "      <td>10.244155</td>\n",
       "      <td>16.43</td>\n",
       "      <td>433.987729</td>\n",
       "    </tr>\n",
       "    <tr>\n",
       "      <th>2018-05-26 10:35:01</th>\n",
       "      <td>19.546725</td>\n",
       "      <td>16.43</td>\n",
       "      <td>1341.069643</td>\n",
       "    </tr>\n",
       "    <tr>\n",
       "      <th>2018-05-26 10:54:41</th>\n",
       "      <td>18.238958</td>\n",
       "      <td>9.77</td>\n",
       "      <td>646.201000</td>\n",
       "    </tr>\n",
       "    <tr>\n",
       "      <th>2018-05-26 11:33:28</th>\n",
       "      <td>9.163472</td>\n",
       "      <td>7.39</td>\n",
       "      <td>74.111753</td>\n",
       "    </tr>\n",
       "  </tbody>\n",
       "</table>\n",
       "</div>"
      ],
      "text/plain": [
       "                          time_to_delivery_from_order_purchased  \\\n",
       "order_purchase_timestamp                                          \n",
       "2018-05-26 10:08:31                                    9.385498   \n",
       "2018-05-26 10:10:47                                   10.244155   \n",
       "2018-05-26 10:35:01                                   19.546725   \n",
       "2018-05-26 10:54:41                                   18.238958   \n",
       "2018-05-26 11:33:28                                    9.163472   \n",
       "\n",
       "                          freight_value  shipment_distance  \n",
       "order_purchase_timestamp                                    \n",
       "2018-05-26 10:08:31               16.43          81.794361  \n",
       "2018-05-26 10:10:47               16.43         433.987729  \n",
       "2018-05-26 10:35:01               16.43        1341.069643  \n",
       "2018-05-26 10:54:41                9.77         646.201000  \n",
       "2018-05-26 11:33:28                7.39          74.111753  "
      ]
     },
     "execution_count": 186,
     "metadata": {},
     "output_type": "execute_result"
    }
   ],
   "source": [
    "df_full = pd.concat((train.iloc[-hops:], test), axis=0)\n",
    "print(df_full.shape)\n",
    "df_full.head()"
   ]
  },
  {
   "cell_type": "code",
   "execution_count": 187,
   "metadata": {},
   "outputs": [
    {
     "data": {
      "text/plain": [
       "(18595, 3)"
      ]
     },
     "execution_count": 187,
     "metadata": {},
     "output_type": "execute_result"
    }
   ],
   "source": [
    "df_full = X_train_scaler.transform(df_full)\n",
    "df_full.shape"
   ]
  },
  {
   "cell_type": "code",
   "execution_count": 188,
   "metadata": {},
   "outputs": [
    {
     "name": "stdout",
     "output_type": "stream",
     "text": [
      "(18495, 100, 3)\n"
     ]
    }
   ],
   "source": [
    "hops = 100\n",
    "n_records = df_full.shape[0]\n",
    "n_cols = df_full.shape[1]\n",
    "X_test = np.array([df_full[i - hops: i] for i in range(hops, n_records)])\n",
    "print(X_test.shape)"
   ]
  },
  {
   "cell_type": "code",
   "execution_count": 189,
   "metadata": {},
   "outputs": [
    {
     "name": "stdout",
     "output_type": "stream",
     "text": [
      "578/578 [==============================] - 5s 9ms/step\n"
     ]
    },
    {
     "data": {
      "text/plain": [
       "array([[ 0.12016147],\n",
       "       [ 0.19802319],\n",
       "       [ 0.04141638],\n",
       "       ...,\n",
       "       [-0.18998946],\n",
       "       [-0.15748844],\n",
       "       [-0.25522915]], dtype=float32)"
      ]
     },
     "execution_count": 189,
     "metadata": {},
     "output_type": "execute_result"
    }
   ],
   "source": [
    "y_pred = model.predict(X_test)\n",
    "y_pred\n"
   ]
  },
  {
   "cell_type": "code",
   "execution_count": 190,
   "metadata": {},
   "outputs": [
    {
     "data": {
      "text/plain": [
       "array([[12.40355  ],\n",
       "       [12.873315 ],\n",
       "       [11.928456 ],\n",
       "       ...,\n",
       "       [10.532312 ],\n",
       "       [10.728401 ],\n",
       "       [10.1387005]], dtype=float32)"
      ]
     },
     "execution_count": 190,
     "metadata": {},
     "output_type": "execute_result"
    }
   ],
   "source": [
    "y_pred = X_train_y_scaler.inverse_transform(y_pred)\n",
    "y_pred"
   ]
  },
  {
   "cell_type": "code",
   "execution_count": 191,
   "metadata": {},
   "outputs": [
    {
     "data": {
      "text/plain": [
       "(18495, 1)"
      ]
     },
     "execution_count": 191,
     "metadata": {},
     "output_type": "execute_result"
    }
   ],
   "source": [
    "y_pred.shape"
   ]
  },
  {
   "cell_type": "code",
   "execution_count": 192,
   "metadata": {},
   "outputs": [
    {
     "data": {
      "text/html": [
       "<div>\n",
       "<style scoped>\n",
       "    .dataframe tbody tr th:only-of-type {\n",
       "        vertical-align: middle;\n",
       "    }\n",
       "\n",
       "    .dataframe tbody tr th {\n",
       "        vertical-align: top;\n",
       "    }\n",
       "\n",
       "    .dataframe thead th {\n",
       "        text-align: right;\n",
       "    }\n",
       "</style>\n",
       "<table border=\"1\" class=\"dataframe\">\n",
       "  <thead>\n",
       "    <tr style=\"text-align: right;\">\n",
       "      <th></th>\n",
       "      <th>preds</th>\n",
       "    </tr>\n",
       "  </thead>\n",
       "  <tbody>\n",
       "    <tr>\n",
       "      <th>0</th>\n",
       "      <td>12.403550</td>\n",
       "    </tr>\n",
       "    <tr>\n",
       "      <th>1</th>\n",
       "      <td>12.873315</td>\n",
       "    </tr>\n",
       "    <tr>\n",
       "      <th>2</th>\n",
       "      <td>11.928456</td>\n",
       "    </tr>\n",
       "    <tr>\n",
       "      <th>3</th>\n",
       "      <td>14.852421</td>\n",
       "    </tr>\n",
       "    <tr>\n",
       "      <th>4</th>\n",
       "      <td>13.065017</td>\n",
       "    </tr>\n",
       "    <tr>\n",
       "      <th>...</th>\n",
       "      <td>...</td>\n",
       "    </tr>\n",
       "    <tr>\n",
       "      <th>18490</th>\n",
       "      <td>10.692278</td>\n",
       "    </tr>\n",
       "    <tr>\n",
       "      <th>18491</th>\n",
       "      <td>10.659134</td>\n",
       "    </tr>\n",
       "    <tr>\n",
       "      <th>18492</th>\n",
       "      <td>10.532312</td>\n",
       "    </tr>\n",
       "    <tr>\n",
       "      <th>18493</th>\n",
       "      <td>10.728401</td>\n",
       "    </tr>\n",
       "    <tr>\n",
       "      <th>18494</th>\n",
       "      <td>10.138700</td>\n",
       "    </tr>\n",
       "  </tbody>\n",
       "</table>\n",
       "<p>18495 rows × 1 columns</p>\n",
       "</div>"
      ],
      "text/plain": [
       "           preds\n",
       "0      12.403550\n",
       "1      12.873315\n",
       "2      11.928456\n",
       "3      14.852421\n",
       "4      13.065017\n",
       "...          ...\n",
       "18490  10.692278\n",
       "18491  10.659134\n",
       "18492  10.532312\n",
       "18493  10.728401\n",
       "18494  10.138700\n",
       "\n",
       "[18495 rows x 1 columns]"
      ]
     },
     "execution_count": 192,
     "metadata": {},
     "output_type": "execute_result"
    }
   ],
   "source": [
    "df_preds = pd.DataFrame({\"preds\": y_pred.reshape((-1,))})\n",
    "df_preds"
   ]
  },
  {
   "cell_type": "code",
   "execution_count": 193,
   "metadata": {},
   "outputs": [
    {
     "data": {
      "text/html": [
       "<div>\n",
       "<style scoped>\n",
       "    .dataframe tbody tr th:only-of-type {\n",
       "        vertical-align: middle;\n",
       "    }\n",
       "\n",
       "    .dataframe tbody tr th {\n",
       "        vertical-align: top;\n",
       "    }\n",
       "\n",
       "    .dataframe thead th {\n",
       "        text-align: right;\n",
       "    }\n",
       "</style>\n",
       "<table border=\"1\" class=\"dataframe\">\n",
       "  <thead>\n",
       "    <tr style=\"text-align: right;\">\n",
       "      <th></th>\n",
       "      <th>time_to_delivery_from_order_purchased</th>\n",
       "      <th>freight_value</th>\n",
       "      <th>shipment_distance</th>\n",
       "      <th>preds</th>\n",
       "    </tr>\n",
       "  </thead>\n",
       "  <tbody>\n",
       "    <tr>\n",
       "      <th>0</th>\n",
       "      <td>19.087535</td>\n",
       "      <td>16.43</td>\n",
       "      <td>433.987729</td>\n",
       "      <td>12.403550</td>\n",
       "    </tr>\n",
       "    <tr>\n",
       "      <th>1</th>\n",
       "      <td>17.323530</td>\n",
       "      <td>27.76</td>\n",
       "      <td>807.707149</td>\n",
       "      <td>12.873315</td>\n",
       "    </tr>\n",
       "    <tr>\n",
       "      <th>2</th>\n",
       "      <td>6.146944</td>\n",
       "      <td>12.84</td>\n",
       "      <td>320.865049</td>\n",
       "      <td>11.928456</td>\n",
       "    </tr>\n",
       "    <tr>\n",
       "      <th>3</th>\n",
       "      <td>10.943565</td>\n",
       "      <td>23.50</td>\n",
       "      <td>602.004596</td>\n",
       "      <td>14.852421</td>\n",
       "    </tr>\n",
       "    <tr>\n",
       "      <th>4</th>\n",
       "      <td>11.407627</td>\n",
       "      <td>16.43</td>\n",
       "      <td>209.575788</td>\n",
       "      <td>13.065017</td>\n",
       "    </tr>\n",
       "    <tr>\n",
       "      <th>...</th>\n",
       "      <td>...</td>\n",
       "      <td>...</td>\n",
       "      <td>...</td>\n",
       "      <td>...</td>\n",
       "    </tr>\n",
       "    <tr>\n",
       "      <th>18490</th>\n",
       "      <td>1.432269</td>\n",
       "      <td>9.20</td>\n",
       "      <td>18.854775</td>\n",
       "      <td>10.692278</td>\n",
       "    </tr>\n",
       "    <tr>\n",
       "      <th>18491</th>\n",
       "      <td>1.087870</td>\n",
       "      <td>16.43</td>\n",
       "      <td>10.343719</td>\n",
       "      <td>10.659134</td>\n",
       "    </tr>\n",
       "    <tr>\n",
       "      <th>18492</th>\n",
       "      <td>1.106979</td>\n",
       "      <td>15.39</td>\n",
       "      <td>431.976676</td>\n",
       "      <td>10.532312</td>\n",
       "    </tr>\n",
       "    <tr>\n",
       "      <th>18493</th>\n",
       "      <td>1.072905</td>\n",
       "      <td>8.33</td>\n",
       "      <td>10.312870</td>\n",
       "      <td>10.728401</td>\n",
       "    </tr>\n",
       "    <tr>\n",
       "      <th>18494</th>\n",
       "      <td>1.057627</td>\n",
       "      <td>8.76</td>\n",
       "      <td>140.915746</td>\n",
       "      <td>10.138700</td>\n",
       "    </tr>\n",
       "  </tbody>\n",
       "</table>\n",
       "<p>18495 rows × 4 columns</p>\n",
       "</div>"
      ],
      "text/plain": [
       "       time_to_delivery_from_order_purchased  freight_value  \\\n",
       "0                                  19.087535          16.43   \n",
       "1                                  17.323530          27.76   \n",
       "2                                   6.146944          12.84   \n",
       "3                                  10.943565          23.50   \n",
       "4                                  11.407627          16.43   \n",
       "...                                      ...            ...   \n",
       "18490                               1.432269           9.20   \n",
       "18491                               1.087870          16.43   \n",
       "18492                               1.106979          15.39   \n",
       "18493                               1.072905           8.33   \n",
       "18494                               1.057627           8.76   \n",
       "\n",
       "       shipment_distance      preds  \n",
       "0             433.987729  12.403550  \n",
       "1             807.707149  12.873315  \n",
       "2             320.865049  11.928456  \n",
       "3             602.004596  14.852421  \n",
       "4             209.575788  13.065017  \n",
       "...                  ...        ...  \n",
       "18490          18.854775  10.692278  \n",
       "18491          10.343719  10.659134  \n",
       "18492         431.976676  10.532312  \n",
       "18493          10.312870  10.728401  \n",
       "18494         140.915746  10.138700  \n",
       "\n",
       "[18495 rows x 4 columns]"
      ]
     },
     "execution_count": 193,
     "metadata": {},
     "output_type": "execute_result"
    }
   ],
   "source": [
    "test_final = pd.concat((test.reset_index(drop=True), df_preds), axis=1)\n",
    "test_final"
   ]
  },
  {
   "cell_type": "code",
   "execution_count": 194,
   "metadata": {},
   "outputs": [],
   "source": [
    "y_true = test_final[\"time_to_delivery_from_order_purchased\"]\n",
    "y_pred = test_final[\"preds\"]"
   ]
  },
  {
   "cell_type": "code",
   "execution_count": 195,
   "metadata": {},
   "outputs": [
    {
     "name": "stdout",
     "output_type": "stream",
     "text": [
      "MAPE: 0.821814029004903\n",
      "MSE: 27.679320253071012\n",
      "MAE: 4.174662316906287\n"
     ]
    }
   ],
   "source": [
    "from sklearn.metrics import mean_absolute_percentage_error, mean_squared_error, mean_absolute_error\n",
    "mape = mean_absolute_percentage_error(y_true, y_pred)\n",
    "mse = mean_squared_error(y_true, y_pred)\n",
    "mae = mean_absolute_error(y_true, y_pred)\n",
    "print(f\"MAPE: {mape}\")\n",
    "print(f\"MSE: {mse}\")\n",
    "print(f\"MAE: {mae}\")"
   ]
  },
  {
   "cell_type": "code",
   "execution_count": 185,
   "metadata": {},
   "outputs": [],
   "source": [
    "# import plotly.express as px\n",
    "# fig = px.line(test_final, x=test_final[\"time_to_delivery_from_order_purchased\"], y=test_final[\"time_to_delivery_from_order_purchased\"])\n",
    "# fig.add_scatter(x=test_final[\"time_to_delivery_from_order_purchased\"], y=test_final[\"pred\"])\n",
    "# fig.show()"
   ]
  }
 ],
 "metadata": {
  "kernelspec": {
   "display_name": "ts_project",
   "language": "python",
   "name": "python3"
  },
  "language_info": {
   "codemirror_mode": {
    "name": "ipython",
    "version": 3
   },
   "file_extension": ".py",
   "mimetype": "text/x-python",
   "name": "python",
   "nbconvert_exporter": "python",
   "pygments_lexer": "ipython3",
   "version": "3.11.4"
  },
  "orig_nbformat": 4
 },
 "nbformat": 4,
 "nbformat_minor": 2
}
